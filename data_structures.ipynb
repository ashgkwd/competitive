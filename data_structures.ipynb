{
 "cells": [
  {
   "cell_type": "markdown",
   "metadata": {},
   "source": [
    "# Data structures & Algorithms"
   ]
  },
  {
   "cell_type": "markdown",
   "metadata": {},
   "source": [
    "## List"
   ]
  },
  {
   "cell_type": "code",
   "execution_count": 6,
   "metadata": {},
   "outputs": [
    {
     "name": "stdout",
     "output_type": "stream",
     "text": [
      "[13, 12, 14, 15]\n",
      "[13, 12, 14, 15, 44]\n",
      "[44, 15, 14, 12, 13]\n",
      "[12, 13, 14, 15, 44]\n",
      "[12, 13, 14, 15]\n"
     ]
    }
   ],
   "source": [
    "l = [13,12,14,15]\n",
    "print(l)\n",
    "l.append(44)\n",
    "print(l)\n",
    "l.reverse()\n",
    "print(l)\n",
    "l.sort()\n",
    "print(l)\n",
    "l.pop()\n",
    "print(l)"
   ]
  },
  {
   "cell_type": "markdown",
   "metadata": {},
   "source": [
    "## Stack\n",
    "\n",
    "> First In, Last Out"
   ]
  },
  {
   "cell_type": "code",
   "execution_count": 8,
   "metadata": {},
   "outputs": [
    {
     "name": "stdout",
     "output_type": "stream",
     "text": [
      "[13, 12, 14, 15, 33, 44]\n",
      "[13, 12, 14, 15, 33]\n",
      "[13, 12, 14, 15]\n"
     ]
    }
   ],
   "source": [
    "stack = [13,12,14,15]\n",
    "stack.append(33)\n",
    "stack.append(44)\n",
    "print(stack)\n",
    "stack.pop()\n",
    "print(stack)\n",
    "stack.pop()\n",
    "print(stack)"
   ]
  },
  {
   "cell_type": "markdown",
   "metadata": {},
   "source": [
    "## Queue\n",
    "\n",
    "> First In, First Out"
   ]
  },
  {
   "cell_type": "code",
   "execution_count": 11,
   "metadata": {},
   "outputs": [
    {
     "name": "stdout",
     "output_type": "stream",
     "text": [
      "deque([12, 22, 34, 56])\n",
      "deque([12, 22, 34, 56, 32])\n",
      "deque([22, 34, 56, 32])\n"
     ]
    }
   ],
   "source": [
    "from collections import deque\n",
    "\n",
    "q = deque([12,22,34,56])\n",
    "print(q)\n",
    "q.append(32)\n",
    "print(q)\n",
    "q.popleft()\n",
    "print(q)"
   ]
  },
  {
   "cell_type": "markdown",
   "metadata": {},
   "source": [
    "## Zip\n",
    "\n",
    "Combine lists into one"
   ]
  },
  {
   "cell_type": "code",
   "execution_count": 28,
   "metadata": {},
   "outputs": [
    {
     "name": "stdout",
     "output_type": "stream",
     "text": [
      "[[1, 2, 3, 4, 5, 6], [-2, -4, -6, -8, -10, -12]]\n",
      "[(1, -2), (2, -4), (3, -6), (4, -8), (5, -10), (6, -12)]\n",
      "[('jay', 'c++'), ('kay', 'c'), ('ray', 'rust'), ('ay', 'go')]\n",
      "{'jay': 'c++', 'kay': 'c', 'ray': 'rust', 'ay': 'go'}\n"
     ]
    }
   ],
   "source": [
    "l = [1,2,3,4,5,6]\n",
    "m = [l, list(map(lambda x: -x*2, l))]\n",
    "print(m)\n",
    "transposed_m = list(zip(*m))\n",
    "print(transposed_m)\n",
    "\n",
    "names = ['jay', 'kay', 'ray', 'ay']\n",
    "skills = ['c++', 'c', 'rust', 'go']\n",
    "\n",
    "name_skills_tuples = list(zip(names, skills))\n",
    "print(name_skills_tuples)\n",
    "print(dict(name_skills_tuples)) # list of tuple of 2 items becomes key:value in dictionary"
   ]
  },
  {
   "cell_type": "markdown",
   "metadata": {},
   "source": [
    "## Set"
   ]
  },
  {
   "cell_type": "code",
   "execution_count": 26,
   "metadata": {},
   "outputs": [
    {
     "name": "stdout",
     "output_type": "stream",
     "text": [
      "{67, 68, 12, 13, 14}\n",
      "False\n",
      "True\n",
      "{13, 68, 12}\n",
      "{67, 68, 555, 12, 13, 14}\n",
      "{67, 14}\n",
      "{68, 555, 12, 13}\n"
     ]
    }
   ],
   "source": [
    "s = {12,13,14,67,68,68,12}\n",
    "print(s)\n",
    "print(3 in s)\n",
    "print(13 in s)\n",
    "\n",
    "y = {14,67,555}\n",
    "print(s-y) # items in s excluding items in y\n",
    "print(s|y) # all items in both s and y\n",
    "print(s&y) # common items in s and y\n",
    "print(s^y) # items in either s or y excluding commons"
   ]
  },
  {
   "cell_type": "markdown",
   "metadata": {},
   "source": [
    "## Iterating"
   ]
  },
  {
   "cell_type": "code",
   "execution_count": 35,
   "metadata": {},
   "outputs": [
    {
     "name": "stdout",
     "output_type": "stream",
     "text": [
      "[('a', 12), ('b', 13), ('c', 332), ('d', 45)]\n",
      "[(0, 'a'), (1, 'b'), (2, 'c'), (3, 'd')]\n",
      "['Person a knows go', 'Person b knows rust', 'Person c knows python', 'Person d knows ruby']\n",
      "[9, 7, 5, 3, 1]\n",
      "['a', 'b', 'c', 'd', 'go', 'python', 'ruby', 'rust']\n"
     ]
    }
   ],
   "source": [
    "d = {'a': 12, 'b': 13, 'c': 332, 'd': 45}\n",
    "l = list(d)\n",
    "skills = ['go', 'rust', 'python', 'ruby']\n",
    "\n",
    "print([(k,v) for k,v in d.items()])\n",
    "print([(i,v) for i,v in enumerate(l)])\n",
    "print([f'Person {p} knows {s}' for p,s in zip(l, skills)])\n",
    "print([i for i in reversed(range(1,10,2))])\n",
    "print([x for x in sorted(skills + l)])"
   ]
  },
  {
   "cell_type": "markdown",
   "metadata": {},
   "source": [
    "## Conditions"
   ]
  },
  {
   "cell_type": "code",
   "execution_count": 40,
   "metadata": {},
   "outputs": [
    {
     "name": "stdout",
     "output_type": "stream",
     "text": [
      "True\n",
      "True\n",
      "True\n",
      "True\n",
      "True\n"
     ]
    }
   ],
   "source": [
    "print((1,2) < (1,3))\n",
    "print([2,3] < [3,3])\n",
    "print('A' < 'B' < 'BC')\n",
    "print((1, ('a', 'b'), 3) < (1, ('b', 'a'), 3))\n",
    "print((1, ('a', 'b'), 3) < (1, ('a', 'c'), 3))"
   ]
  },
  {
   "cell_type": "markdown",
   "metadata": {},
   "source": [
    "## Linked Lists"
   ]
  },
  {
   "cell_type": "code",
   "execution_count": 67,
   "metadata": {},
   "outputs": [
    {
     "name": "stdout",
     "output_type": "stream",
     "text": [
      "Node(value=1, next=None)\n",
      "Node(value=12, next=Node(value=13, next=None))\n",
      "1 -> 2 -> 33 -> 4\n",
      "1 -> 2 -> 33 -> 4 -> 55\n",
      "1 -> 2 -> 33 -> 4 -> 55 -> 72 -> -32\n",
      "-9 -> -8 -> 23 -> -6 -> 45 -> 62 -> -42\n",
      "1 -> 2 -> 33 -> 4 -> 55 -> 72 -> -32\n"
     ]
    }
   ],
   "source": [
    "from dataclasses import dataclass\n",
    "from functools import reduce\n",
    "from typing import Optional\n",
    "\n",
    "\n",
    "@dataclass\n",
    "class Node:\n",
    "  value: int\n",
    "  next: Optional['Node'] = None\n",
    "\n",
    "n = Node(1,None)\n",
    "print(n)\n",
    "\n",
    "head = Node(12)\n",
    "head.next = Node(13)\n",
    "print(head)\n",
    "\n",
    "class LinkedList:\n",
    "  def __init__(self, values):\n",
    "    nodes = list(map(lambda x: Node(x), values))\n",
    "    reduce(self.link_nodes, nodes, None)\n",
    "    self.head = nodes[0]\n",
    "\n",
    "  def link_nodes(self, first, second):\n",
    "    if first is not None:\n",
    "      first.next = second\n",
    "    return second\n",
    "\n",
    "  def apply(self, fn):\n",
    "    current = self.head\n",
    "    while current is not None:\n",
    "      yield fn(current)\n",
    "      current = current.next\n",
    "\n",
    "  def __str__(self) -> str:\n",
    "    values = self.apply(lambda x: str(x.value))\n",
    "    return ' -> '.join(list(values))\n",
    "\n",
    "  def append(self, value):\n",
    "    current = self.head\n",
    "    while current is not None:\n",
    "      if current.next is None:\n",
    "        current.next = Node(value)\n",
    "        break\n",
    "      current = current.next\n",
    "\n",
    "\n",
    "ll = LinkedList([1,2,33,4])\n",
    "print(ll)\n",
    "ll.append(55)\n",
    "print(ll)\n",
    "ll.append(72)\n",
    "ll.append(-32)\n",
    "print(ll)\n",
    "print(LinkedList(ll.apply(lambda x: x.value-10)))\n",
    "print(ll)"
   ]
  },
  {
   "cell_type": "code",
   "execution_count": 76,
   "metadata": {},
   "outputs": [
    {
     "name": "stdout",
     "output_type": "stream",
     "text": [
      "1 -> 2 -> 3 -> 4 -> 5\n",
      "5 -> 4 -> 3 -> 2 -> 1\n",
      "1\n",
      "1\n",
      "1 -> 2\n",
      "2 -> 1\n"
     ]
    }
   ],
   "source": [
    "# reverse a linked list\n",
    "\n",
    "def reverseLinkedList(self):\n",
    "  # current->next->jump->\n",
    "  # current<-next<-jump<-\n",
    "  if self.head is None or self.head.next is None:\n",
    "    return self\n",
    "  \n",
    "  prev = None\n",
    "  current = self.head\n",
    "  while current is not None:\n",
    "    # prev current->next->jump->\n",
    "    next = current.next\n",
    "    current.next = prev # prev<-current next->jump->\n",
    "    prev = current # prev<-current(prev) next->jump->\n",
    "    if next is not None:\n",
    "      current = next # prev<-current(prev) next(current)->jump->\n",
    "    else:\n",
    "      self.head = current\n",
    "      return self\n",
    "\n",
    "LinkedList.reverse = reverseLinkedList\n",
    "\n",
    "ll = LinkedList([1,2,3,4,5])\n",
    "print(ll)\n",
    "ll.reverse()\n",
    "print(ll)\n",
    "\n",
    "one_ll = LinkedList([1])\n",
    "print(one_ll)\n",
    "one_ll.reverse()\n",
    "print(one_ll)\n",
    "\n",
    "two_ll = LinkedList([1,2])\n",
    "print(two_ll)\n",
    "two_ll.reverse()\n",
    "print(two_ll)"
   ]
  },
  {
   "cell_type": "markdown",
   "metadata": {},
   "source": [
    "## Binary Tree"
   ]
  },
  {
   "cell_type": "code",
   "execution_count": 91,
   "metadata": {},
   "outputs": [
    {
     "name": "stdout",
     "output_type": "stream",
     "text": [
      "22 21 11 9 5 4 3 2 1 0 -1 -2 -3 -4 \n",
      "9 22 11 21 -1 5 4 3 2 1 0 -3 -2 -4 \n",
      "21 11 22 0 1 2 3 4 5 -2 -4 -3 -1 9 \n"
     ]
    }
   ],
   "source": [
    "class BSTNode:\n",
    "  def __init__(self, value=None, left: Optional['BSTNode'] = None, right: Optional['BSTNode'] = None):\n",
    "    self.value = value\n",
    "    self.left = left\n",
    "    self.right = right\n",
    "\n",
    "  def add(self, value):\n",
    "    if self.value is None:\n",
    "      self.value = value\n",
    "    elif self.value < value:\n",
    "      if self.left is None:\n",
    "        self.left = BSTNode(value)\n",
    "      else:\n",
    "        self.left.add(value)\n",
    "    else:\n",
    "      if self.right is None:\n",
    "        self.right = BSTNode(value)\n",
    "      else:\n",
    "        self.right.add(value)\n",
    "  \n",
    "  def inorder(self):\n",
    "    if self.value is not None:\n",
    "      if self.left is not None:\n",
    "        self.left.inorder()\n",
    "      print(self.value, end=' ')\n",
    "      if self.right is not None:\n",
    "        self.right.inorder()\n",
    "\n",
    "  def preorder(self):\n",
    "    if self.value is not None:\n",
    "      print(self.value, end=' ')\n",
    "      if self.left is not None:\n",
    "        self.left.preorder()\n",
    "      if self.right is not None:\n",
    "        self.right.preorder()\n",
    "  \n",
    "  def postorder(self):\n",
    "    if self.value is not None:\n",
    "      if self.left is not None:\n",
    "        self.left.postorder()\n",
    "      if self.right is not None:\n",
    "        self.right.postorder()\n",
    "      print(self.value, end=' ')\n",
    "\n",
    "\n",
    "class BinarySearchTree:\n",
    "  def __init__(self, iterable) -> None:\n",
    "    self.root = BSTNode()\n",
    "    [self.root.add(i) for i in iterable]\n",
    "\n",
    "  def add(self, value):\n",
    "    self.root.add(value)\n",
    "\n",
    "  def inorder(self):\n",
    "    self.root.inorder()\n",
    "    print('')\n",
    "\n",
    "  def preorder(self):\n",
    "    self.root.preorder()\n",
    "    print('')\n",
    "\n",
    "  def postorder(self):\n",
    "    self.root.postorder()\n",
    "    print('')\n",
    "\n",
    "source = [9,22,-1,-3,-4,11,5,4,3,2,1,0,-2,21]\n",
    "bt = BinarySearchTree(source)\n",
    "bt.inorder()\n",
    "bt.preorder()\n",
    "bt.postorder()"
   ]
  }
 ],
 "metadata": {
  "kernelspec": {
   "display_name": "Python 3.10.4 64-bit ('3.10.4')",
   "language": "python",
   "name": "python3"
  },
  "language_info": {
   "codemirror_mode": {
    "name": "ipython",
    "version": 3
   },
   "file_extension": ".py",
   "mimetype": "text/x-python",
   "name": "python",
   "nbconvert_exporter": "python",
   "pygments_lexer": "ipython3",
   "version": "3.10.4"
  },
  "orig_nbformat": 4,
  "vscode": {
   "interpreter": {
    "hash": "de2c3802e33bc2dbf7d97d789199d5111361bbe98e641e9b02b2c5cc8c5c697f"
   }
  }
 },
 "nbformat": 4,
 "nbformat_minor": 2
}
